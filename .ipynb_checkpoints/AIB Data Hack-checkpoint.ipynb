{
 "cells": [
  {
   "cell_type": "markdown",
   "metadata": {},
   "source": [
    "# AIB Data Hack\n",
    "\n",
    "Imports:"
   ]
  },
  {
   "cell_type": "code",
   "execution_count": null,
   "metadata": {
    "collapsed": true
   },
   "outputs": [],
   "source": [
    "# IMPORTS\n",
    "import pandas as pd\n",
    "import matplotlib.pyplot as plt"
   ]
  },
  {
   "cell_type": "markdown",
   "metadata": {},
   "source": [
    "## Reading the CSV"
   ]
  },
  {
   "cell_type": "code",
   "execution_count": null,
   "metadata": {
    "collapsed": false
   },
   "outputs": [],
   "source": [
    "test = pd.read_csv(\"data/training.txt\",sep='\\t', lineterminator='\\n')"
   ]
  },
  {
   "cell_type": "markdown",
   "metadata": {},
   "source": [
    "## Describing initial data"
   ]
  },
  {
   "cell_type": "code",
   "execution_count": null,
   "metadata": {
    "collapsed": false
   },
   "outputs": [],
   "source": [
    "test.describe()"
   ]
  },
  {
   "cell_type": "markdown",
   "metadata": {},
   "source": [
    "## Printing first ten rows of initial data"
   ]
  },
  {
   "cell_type": "code",
   "execution_count": null,
   "metadata": {
    "collapsed": false
   },
   "outputs": [],
   "source": [
    "test.head(10)"
   ]
  },
  {
   "cell_type": "code",
   "execution_count": null,
   "metadata": {
    "collapsed": false
   },
   "outputs": [],
   "source": [
    "def parseOutSqm(x):\n",
    "    return x[:len(x)-6]\n",
    "# Converting NaN values\n",
    "test[\"EffSecondHeatGenPlant\"] = test[\"EffSecondHeatGenPlant\"].fillna(test[\"EffSecondHeatGenPlant\"].median())\n",
    "test[\"PercSecondHeat\"] = test[\"PercSecondHeat\"].fillna(test[\"PercSecondHeat\"].median())\n",
    "test[\"FuelTypeThirdBoiler\"] = test[\"FuelTypeThirdBoiler\"].fillna(test[\"FuelTypeThirdBoiler\"].median())\n",
    "test[\"EffThirdHeatGenPlant\"] = test[\"EffThirdHeatGenPlant\"].fillna(test[\"EffThirdHeatGenPlant\"].median())\n",
    "test[\"PercThirdHeat\"] = test[\"PercThirdHeat\"].fillna(test[\"PercThirdHeat\"].median())\n",
    "test[\"HeatingSystemSolarSpace\"] = test[\"HeatingSystemSolarSpace\"].fillna(test[\"HeatingSystemSolarSpace\"].median())\n",
    "test[\"TotPrimaryEnergyFac\"] = test[\"TotPrimaryEnergyFac\"].fillna(test[\"TotPrimaryEnergyFac\"].median())\n",
    "test[\"TotCO2Emissions\"] = test[\"TotCO2Emissions\"].fillna(test[\"TotCO2Emissions\"].median())\n",
    "\n",
    "# Parsing out the sq. m\n",
    "test[\"GroundFloorArea\"] = test[\"GroundFloorArea\"].apply(parseOutSqm).astype(float)\n",
    "\n",
    "test[\"GroundFloorArea\"] = test[\"GroundFloorArea\"].fillna(test[\"GroundFloorArea\"].median())"
   ]
  },
  {
   "cell_type": "code",
   "execution_count": null,
   "metadata": {
    "collapsed": false
   },
   "outputs": [],
   "source": [
    "def parseYear(x):\n",
    "    return x[1:]\n",
    "test[\"Year\"] = test[\"Year\"].apply(parseYear)"
   ]
  },
  {
   "cell_type": "code",
   "execution_count": null,
   "metadata": {
    "collapsed": true
   },
   "outputs": [],
   "source": [
    "# Converting types to numbers\n",
    "test.loc[test[\"Type\"] == \"House\", \"Type\"] = 0\n",
    "test.loc[test[\"Type\"] == \"Apartment\", \"Type\"] = 1\n",
    "test.loc[test[\"Type\"] == \"Ground-floor apartment\", \"Type\"] = 2\n",
    "test.loc[test[\"Type\"] == \"Mid-floor apartment\", \"Type\"] = 3\n",
    "test.loc[test[\"Type\"] == \"Top-floor apartment\", \"Type\"] = 4\n",
    "test.loc[test[\"Type\"] == \"End of terrace house\", \"Type\"] = 5\n",
    "test.loc[test[\"Type\"] == \"Mid-terrace house\", \"Type\"] = 6\n",
    "test.loc[test[\"Type\"] == \"Semi-detached house\", \"Type\"] = 7\n",
    "test.loc[test[\"Type\"] == \"Detached house\", \"Type\"] = 8\n",
    "test.loc[test[\"Type\"] == \"Maisonette\", \"Type\"] = 9"
   ]
  },
  {
   "cell_type": "code",
   "execution_count": null,
   "metadata": {
    "collapsed": true
   },
   "outputs": [],
   "source": [
    "# Converting classes to numbers\n",
    "# A1,A2,A3,B1,B2,B3,C1,C2,C3,D1,D2,E1,E2,F,G\n",
    "test.loc[test[\"EnergyRatingCat\"] == \"A1\", \"EnergyRatingCat\"] = 0\n",
    "test.loc[test[\"EnergyRatingCat\"] == \"A2\", \"EnergyRatingCat\"] = 1\n",
    "test.loc[test[\"EnergyRatingCat\"] == \"A3\", \"EnergyRatingCat\"] = 2\n",
    "test.loc[test[\"EnergyRatingCat\"] == \"B1\", \"EnergyRatingCat\"] = 3\n",
    "test.loc[test[\"EnergyRatingCat\"] == \"B2\", \"EnergyRatingCat\"] = 4\n",
    "test.loc[test[\"EnergyRatingCat\"] == \"B3\", \"EnergyRatingCat\"] = 5\n",
    "test.loc[test[\"EnergyRatingCat\"] == \"C1\", \"EnergyRatingCat\"] = 6\n",
    "test.loc[test[\"EnergyRatingCat\"] == \"C2\", \"EnergyRatingCat\"] = 7\n",
    "test.loc[test[\"EnergyRatingCat\"] == \"C3\", \"EnergyRatingCat\"] = 8\n",
    "test.loc[test[\"EnergyRatingCat\"] == \"D1\", \"EnergyRatingCat\"] = 9\n",
    "test.loc[test[\"EnergyRatingCat\"] == \"D2\", \"EnergyRatingCat\"] = 10\n",
    "test.loc[test[\"EnergyRatingCat\"] == \"E1\", \"EnergyRatingCat\"] = 11\n",
    "test.loc[test[\"EnergyRatingCat\"] == \"E2\", \"EnergyRatingCat\"] = 12\n",
    "test.loc[test[\"EnergyRatingCat\"] == 'F', \"EnergyRatingCat\"] = 13\n",
    "test.loc[test[\"EnergyRatingCat\"] == 'G', \"EnergyRatingCat\"] = 14"
   ]
  },
  {
   "cell_type": "code",
   "execution_count": null,
   "metadata": {
    "collapsed": false
   },
   "outputs": [],
   "source": [
    "test.head(10)"
   ]
  },
  {
   "cell_type": "code",
   "execution_count": null,
   "metadata": {
    "collapsed": false
   },
   "outputs": [],
   "source": [
    "test.ix[:, test.columns.difference(['BuildingID'])].head(10).plot()\n",
    "plt.show()"
   ]
  },
  {
   "cell_type": "code",
   "execution_count": null,
   "metadata": {
    "collapsed": false
   },
   "outputs": [],
   "source": [
    "from numpy._distributor_init import NUMPY_MKL\n",
    "# Import the linear regression class\n",
    "from sklearn.linear_model import LinearRegression\n",
    "# Sklearn also has a helper that makes it easy to do cross validation\n",
    "from sklearn.cross_validation import KFold\n",
    "\n",
    "# The columns we'll use to predict the target\n",
    "predictors = [\"GroundFloorArea\", \"AvgWallU\", \"AvgRoofU\", \"AvgFloorU\", \"AvgWindowU\", \"AvgDoorU\", \"ExposedWallArea\", \"ExposedRoofArea\"]\n",
    "\n",
    "# Initialize our algorithm class\n",
    "alg = LinearRegression()\n",
    "# Generate cross validation folds for the titanic dataset.  It return the row indices corresponding to train and test.\n",
    "# We set random_state to ensure we get the same splits every time we run this.\n",
    "kf = KFold(test.shape[0], n_folds=3, random_state=1)\n",
    "\n",
    "predictions = []\n",
    "for train, t in kf:\n",
    "    # The predictors we're using the train the algorithm.  Note how we only take the rows in the train folds.\n",
    "    train_predictors = (test[predictors].iloc[train,:])\n",
    "    # The target we're using to train the algorithm.\n",
    "    train_target = test[\"EnergyRatingCont\"].iloc[train]\n",
    "    # Training the algorithm using the predictors and target.\n",
    "    alg.fit(train_predictors, train_target)\n",
    "    # We can now make predictions on the test fold\n",
    "    test_predictions = alg.predict(test[predictors].iloc[test,:])\n",
    "    predictions.append(test_predictions)"
   ]
  },
  {
   "cell_type": "code",
   "execution_count": null,
   "metadata": {
    "collapsed": false
   },
   "outputs": [],
   "source": [
    "import numpy as np\n",
    "# The predictions are in three separate numpy arrays.  Concatenate them into one.  \n",
    "# We concatenate them on axis 0, as they only have one axis.\n",
    "predictions = np.concatenate(predictions, axis=0)\n",
    "\n",
    "# Map predictions to outcomes (only possible outcomes are 1 and 0)\n",
    "accuracy = 0\n",
    "for i in range(0,len(predictions)):\n",
    "    accuracy-=abs(predictions[i]-test[\"EnergyRatingCont\"][i])\n",
    "accuracy/=float(len(predictions))\n",
    "accuracy = 1.0 - accuracy\n",
    "print(accuracy)"
   ]
  },
  {
   "cell_type": "code",
   "execution_count": null,
   "metadata": {
    "collapsed": true
   },
   "outputs": [],
   "source": []
  }
 ],
 "metadata": {
  "kernelspec": {
   "display_name": "Python 2",
   "language": "python",
   "name": "python2"
  },
  "language_info": {
   "codemirror_mode": {
    "name": "ipython",
    "version": 2
   },
   "file_extension": ".py",
   "mimetype": "text/x-python",
   "name": "python",
   "nbconvert_exporter": "python",
   "pygments_lexer": "ipython2",
   "version": "2.7.12"
  }
 },
 "nbformat": 4,
 "nbformat_minor": 1
}
